{
 "cells": [
  {
   "cell_type": "code",
   "execution_count": 1,
   "metadata": {},
   "outputs": [
    {
     "name": "stdout",
     "output_type": "stream",
     "text": [
      "kalyani\n"
     ]
    }
   ],
   "source": [
    "name='kalyani'\n",
    "print(name)"
   ]
  },
  {
   "cell_type": "code",
   "execution_count": 2,
   "metadata": {},
   "outputs": [],
   "source": [
    "# Creating different types of variables\n",
    "num=10  # Integer\n",
    "num1=10.5 # Float\n",
    "name='Kalyani' #String\n",
    "a=True # Boolean "
   ]
  },
  {
   "cell_type": "code",
   "execution_count": 4,
   "metadata": {},
   "outputs": [
    {
     "name": "stdout",
     "output_type": "stream",
     "text": [
      "<class 'int'>\n",
      "<class 'float'>\n",
      "<class 'str'>\n",
      "<class 'bool'>\n"
     ]
    }
   ],
   "source": [
    "# Printing type of above specified variables\n",
    "print(type(num))\n",
    "print(type(num1))\n",
    "print(type(name))\n",
    "print(type(a))"
   ]
  },
  {
   "cell_type": "code",
   "execution_count": 10,
   "metadata": {},
   "outputs": [
    {
     "name": "stdout",
     "output_type": "stream",
     "text": [
      "Addition of 10 and 5 is: 15\n",
      "Subtraction of 10 and 5 is: 5\n",
      "Multiplication of 10 and 5 is: 50\n",
      "Division of 10 and 5 is: 2.0\n",
      "Floor Division of 10 and 5 is: 2\n",
      "Modulus of 10 and 5 is: 0\n",
      "Exponentiation of 10 and 5 is: 100000\n"
     ]
    }
   ],
   "source": [
    "# Arithmetic operators eg.\n",
    "num1=10\n",
    "num2=5\n",
    "add=num1 + num2 \n",
    "sub=num1 - num2\n",
    "mul=num1 * num2\n",
    "div=num1 / num2\n",
    "Fdiv=num1 // num2\n",
    "mod=num1 % num2\n",
    "exp=num1 ** num2\n",
    "print('Addition of',num1,'and',num2,'is:',add)\n",
    "print('Subtraction of',num1,'and',num2,'is:',sub)\n",
    "print('Multiplication of',num1,'and',num2,'is:',mul)\n",
    "print('Division of',num1,'and',num2,'is:',div)\n",
    "print('Floor Division of',num1,'and',num2,'is:',Fdiv)\n",
    "print('Modulus of',num1,'and',num2,'is:',mod)\n",
    "print('Exponentiation of',num1,'and',num2,'is:',exp)\n"
   ]
  },
  {
   "cell_type": "code",
   "execution_count": 12,
   "metadata": {},
   "outputs": [
    {
     "name": "stdout",
     "output_type": "stream",
     "text": [
      "Area of a rectangle is: 50\n"
     ]
    }
   ],
   "source": [
    "# Code to calculate the area of a rectangle.\n",
    "len=5\n",
    "wid=10\n",
    "Area_Rectangle=len * wid\n",
    "print('Area of a rectangle is:',Area_Rectangle)"
   ]
  },
  {
   "cell_type": "code",
   "execution_count": 15,
   "metadata": {},
   "outputs": [
    {
     "name": "stdout",
     "output_type": "stream",
     "text": [
      "Cheking if 15 is Equal to 20 : False\n",
      "Cheking if 15 is Not equal to 20 : True\n",
      "Cheking if 15 is Greater than 20 : False\n",
      "Cheking if 15 is Less than 20 : True\n",
      "Cheking if 15 is Greater than or equal to 20 : False\n",
      "Cheking if 15 is Less than or equal to 20 : True\n"
     ]
    }
   ],
   "source": [
    "# Code for comparison operators eg.\n",
    "\n",
    "num1=15\n",
    "num2=20\n",
    "\n",
    "print('Cheking if',num1,'is Equal to',num2,':',num1==num2)\n",
    "print('Cheking if',num1,'is Not equal to',num2,':',num1!=num2)\n",
    "print('Cheking if',num1,'is Greater than',num2,':',num1>num2)\n",
    "print('Cheking if',num1,'is Less than',num2,':',num1<num2)\n",
    "print('Cheking if',num1,'is Greater than or equal to',num2,':',num1>=num2)\n",
    "print('Cheking if',num1,'is Less than or equal to',num2,':',num1<=num2)"
   ]
  },
  {
   "cell_type": "code",
   "execution_count": 26,
   "metadata": {},
   "outputs": [
    {
     "name": "stdout",
     "output_type": "stream",
     "text": [
      "Number is positive and even\n"
     ]
    }
   ],
   "source": [
    "num=int(input('Enter a number'))\n",
    "if num>0 and num%2!=0:\n",
    "    print('Number is positive but not even') \n",
    "elif num>0 and num%2==0:\n",
    "    print('Number is positive and even')\n",
    "else:\n",
    "    print('Number is negetive')\n",
    "\n"
   ]
  },
  {
   "cell_type": "code",
   "execution_count": 29,
   "metadata": {},
   "outputs": [
    {
     "name": "stdout",
     "output_type": "stream",
     "text": [
      "<class 'float'>\n",
      "10\n",
      "<class 'int'>\n"
     ]
    }
   ],
   "source": [
    "a=10.5\n",
    "print(type(a))\n",
    "a_integer=int(a) # Converting Float to integer\n",
    "print(a_integer)\n",
    "print(type(a_integer))"
   ]
  },
  {
   "cell_type": "code",
   "execution_count": 30,
   "metadata": {},
   "outputs": [
    {
     "name": "stdout",
     "output_type": "stream",
     "text": [
      "<class 'int'>\n",
      "10\n",
      "<class 'str'>\n"
     ]
    }
   ],
   "source": [
    "num=10\n",
    "print(type(num))\n",
    "num_str=str(num) # Converting integer to a string\n",
    "print(num_str)\n",
    "print(type(num_str))"
   ]
  },
  {
   "cell_type": "code",
   "execution_count": 31,
   "metadata": {},
   "outputs": [
    {
     "name": "stdout",
     "output_type": "stream",
     "text": [
      "<class 'str'>\n",
      "10.0\n",
      "<class 'float'>\n"
     ]
    }
   ],
   "source": [
    "num='10'\n",
    "print(type(num))\n",
    "num_fl=float(num) # Converting string to a float\n",
    "print(num_fl)\n",
    "print(type(num_fl))"
   ]
  },
  {
   "cell_type": "code",
   "execution_count": 37,
   "metadata": {},
   "outputs": [
    {
     "name": "stdout",
     "output_type": "stream",
     "text": [
      "Addition of 3 and 0 is: 3\n",
      "Subtracts the second number from the first number is: -3\n",
      "Multiplication of 3 and 0 is: 0\n",
      "division by zero is not possible, please enter valid number\n",
      "Division of 3 and 0 is: 0.75\n",
      "Converting the sum of the numbers to a string <class 'str'>\n"
     ]
    }
   ],
   "source": [
    "num1=int(input('Enter the first number'))\n",
    "num2=int(input('Enter the second number'))\n",
    "sum=num1+num2\n",
    "\n",
    "print('Addition of',num1,'and',num2,'is:',sum)\n",
    "print('Subtracts the second number from the first number is:',num2-num1)\n",
    "print('Multiplication of',num1,'and',num2,'is:',num1*num2)\n",
    "# Handling ZeroDivisionError\n",
    "try:\n",
    "    div=num1/num2\n",
    "\n",
    "except ZeroDivisionError:\n",
    "    print('division by zero is not possible, please enter valid number')\n",
    "print('Division of',num1,'and',num2,'is:',div)\n",
    "print('Converting the sum of the numbers to a string',type(str(sum)))\n",
    "\n",
    "\n",
    "\n"
   ]
  }
 ],
 "metadata": {
  "kernelspec": {
   "display_name": "Python 3",
   "language": "python",
   "name": "python3"
  },
  "language_info": {
   "codemirror_mode": {
    "name": "ipython",
    "version": 3
   },
   "file_extension": ".py",
   "mimetype": "text/x-python",
   "name": "python",
   "nbconvert_exporter": "python",
   "pygments_lexer": "ipython3",
   "version": "3.12.5"
  }
 },
 "nbformat": 4,
 "nbformat_minor": 2
}
